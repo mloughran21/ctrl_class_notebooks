{
 "cells": [
  {
   "cell_type": "code",
   "execution_count": 13,
   "metadata": {},
   "outputs": [],
   "source": [
    "import numpy as np\n",
    "import matplotlib.pyplot as plt\n",
    "from control import tf, rlocus, feedback\n",
    "import ipywidgets as widgets\n",
    "import sympy as sp\n"
   ]
  },
  {
   "cell_type": "code",
   "execution_count": 14,
   "metadata": {},
   "outputs": [],
   "source": [
    "# Function to convert a SymPy transfer function into control library format\n",
    "def sympy_to_transfer_function(num_expr, den_expr):\n",
    "    # Convert SymPy expressions to polynomials\n",
    "    num_poly = sp.Poly(num_expr, sp.symbols('s'))\n",
    "    den_poly = sp.Poly(den_expr, sp.symbols('s'))\n",
    "    \n",
    "    # Extract coefficients\n",
    "    num_coeffs = num_poly.all_coeffs()\n",
    "    den_coeffs = den_poly.all_coeffs()\n",
    "    \n",
    "    # Convert coefficients to float (SymPy gives them as symbolic)\n",
    "    num_coeffs = [float(coef) for coef in num_coeffs]\n",
    "    den_coeffs = [float(coef) for coef in den_coeffs]\n",
    "    \n",
    "    # Create a transfer function using control library\n",
    "    return tf(num_coeffs, den_coeffs)\n"
   ]
  },
  {
   "cell_type": "code",
   "execution_count": 15,
   "metadata": {},
   "outputs": [
    {
     "name": "stdout",
     "output_type": "stream",
     "text": [
      "Open-Loop Transfer Function (OLTF): \n",
      "\n",
      "      1\n",
      "-------------\n",
      "s^2 + 3 s + 2\n",
      "\n"
     ]
    }
   ],
   "source": [
    "# Define symbolic variable s\n",
    "s = sp.symbols('s')\n",
    "\n",
    "# Example: Numerator and Denominator of the transfer function (OLTF)\n",
    "num_expr = 1  # Numerator of OLTF (you can change this algebraic expression)\n",
    "den_expr = s**2 + 3*s + 2  # Denominator of OLTF (you can change this algebraic expression)\n",
    "\n",
    "# Convert to a transfer function in control system format (OLTF)\n",
    "OLTF = sympy_to_transfer_function(num_expr, den_expr)\n",
    "\n",
    "# Print the open-loop transfer function\n",
    "print(f\"Open-Loop Transfer Function (OLTF): \\n{OLTF}\")\n"
   ]
  },
  {
   "cell_type": "code",
   "execution_count": 16,
   "metadata": {},
   "outputs": [],
   "source": [
    "# Function to compute Closed-Loop Transfer Function (CLTF) based on the gain k\n",
    "def compute_cltf(k_value):\n",
    "    # Multiply OLTF by the gain k to get the new OLTF with k\n",
    "    new_oltf = k_value * OLTF\n",
    "    \n",
    "    # Feedback function returns the CLTF: T(s) = OLTF(s) / (1 + OLTF(s))\n",
    "    CLTF = feedback(new_oltf)\n",
    "    \n",
    "    return CLTF\n",
    "\n",
    "# Function to plot the root locus and display OLTF and CLTF\n",
    "def plot_root_locus(k_value):\n",
    "    plt.figure(figsize=(8, 6))\n",
    "    \n",
    "    # Plot the root locus for OLTF\n",
    "    rlocus(OLTF, kvect=[k_value], Plot=True, grid=True)\n",
    "    \n",
    "    # Set the title and labels\n",
    "    plt.title(f\"Root Locus for k = {k_value}\")\n",
    "    plt.xlabel('Real Axis')\n",
    "    plt.ylabel('Imaginary Axis')\n",
    "    \n",
    "    # Show the plot\n",
    "    plt.show()\n",
    "    \n",
    "    # Calculate and display the Closed-Loop Transfer Function\n",
    "    cltf = compute_cltf(k_value)\n",
    "    print(f\"Closed-Loop Transfer Function (CLTF) for k = {k_value}: \\n{cltf}\")\n"
   ]
  },
  {
   "cell_type": "code",
   "execution_count": 17,
   "metadata": {},
   "outputs": [
    {
     "data": {
      "application/vnd.jupyter.widget-view+json": {
       "model_id": "6aa9b4bdc16a4c049e665a2eb9d7c2a2",
       "version_major": 2,
       "version_minor": 0
      },
      "text/plain": [
       "interactive(children=(FloatSlider(value=1.0, description='Gain (k)', max=20.0), Output()), _dom_classes=('widg…"
      ]
     },
     "metadata": {},
     "output_type": "display_data"
    }
   ],
   "source": [
    "# Create a slider for k value\n",
    "k_slider = widgets.FloatSlider(value=1.0, min=0.0, max=20.0, step=0.1, description='Gain (k)')\n",
    "\n",
    "# Use the interactive widget to update the plot dynamically\n",
    "widgets.interactive(plot_root_locus, k_value=k_slider)\n"
   ]
  }
 ],
 "metadata": {
  "kernelspec": {
   "display_name": "base",
   "language": "python",
   "name": "python3"
  },
  "language_info": {
   "codemirror_mode": {
    "name": "ipython",
    "version": 3
   },
   "file_extension": ".py",
   "mimetype": "text/x-python",
   "name": "python",
   "nbconvert_exporter": "python",
   "pygments_lexer": "ipython3",
   "version": "3.9.13"
  }
 },
 "nbformat": 4,
 "nbformat_minor": 2
}
