{
 "cells": [
  {
   "cell_type": "code",
   "execution_count": 30,
   "metadata": {},
   "outputs": [],
   "source": [
    "import numpy as np\n",
    "import matplotlib.pyplot as plt\n",
    "from control import tf, rlocus, step_response, feedback\n",
    "import ipywidgets as widgets  # For interactive sliders\n",
    "import sympy as sp\n"
   ]
  },
  {
   "cell_type": "code",
   "execution_count": 31,
   "metadata": {},
   "outputs": [],
   "source": [
    "# Define symbolic variable s\n",
    "s = sp.symbols('s')\n",
    "\n",
    "# Define the transfer function (OLTF): You can change it if needed\n",
    "num_expr = 1\n",
    "den_expr = s + 3  # Matches the pole at -3 as shown in the diagram\n",
    "\n",
    "# Convert to a transfer function in control system format (OLTF)\n",
    "OLTF = tf([1], [1, 3])\n"
   ]
  },
  {
   "cell_type": "code",
   "execution_count": 32,
   "metadata": {},
   "outputs": [],
   "source": [
    "# Function to plot the root locus and step response for a given value of k\n",
    "def plot_root_locus_and_step_response(k_value):\n",
    "    # Plot the root locus\n",
    "    plt.figure(figsize=(8, 6))\n",
    "    rlocus(OLTF, kvect=[k_value], Plot=True, grid=True)\n",
    "    \n",
    "    # Annotating key points for poles at specific K values\n",
    "    plt.scatter([-3], [0], color='r', s=100, label=\"OL Pole (K=0)\")  # OL Pole at -3\n",
    "    plt.scatter([-7], [0], color='g', s=100, label=f\"CL Pole (K={k_value})\")  # CL Pole for given K\n",
    "    \n",
    "    # Remove arrows from the plot, just highlighting poles\n",
    "    plt.xlabel('Real Axis')\n",
    "    plt.ylabel('Imaginary Axis')\n",
    "    plt.title(f'Root Locus for K = {k_value}')\n",
    "    plt.legend()\n",
    "    plt.grid(True)\n",
    "    plt.show()\n",
    "\n",
    "    # Plot the step response for the selected K value\n",
    "    CLTF = feedback(k_value * OLTF)\n",
    "    t, y = step_response(CLTF)\n",
    "    \n",
    "    plt.figure(figsize=(8, 6))\n",
    "    plt.plot(t, y, label=f'K={k_value}')\n",
    "    \n",
    "    # Set plot labels and title\n",
    "    plt.title(f\"Step Response for K = {k_value}\")\n",
    "    plt.xlabel(\"Time (seconds)\")\n",
    "    plt.ylabel(\"Response\")\n",
    "    plt.legend()\n",
    "    plt.grid(True)\n",
    "    plt.show()\n"
   ]
  },
  {
   "cell_type": "code",
   "execution_count": 33,
   "metadata": {},
   "outputs": [
    {
     "data": {
      "application/vnd.jupyter.widget-view+json": {
       "model_id": "db0e93b3848542de8d10dc3a7ae9bb92",
       "version_major": 2,
       "version_minor": 0
      },
      "text/plain": [
       "interactive(children=(FloatSlider(value=1.0, description='Gain (k)', max=10.0), Output()), _dom_classes=('widg…"
      ]
     },
     "metadata": {},
     "output_type": "display_data"
    }
   ],
   "source": [
    "# Create a slider for k value\n",
    "k_slider = widgets.FloatSlider(value=1.0, min=0.0, max=10.0, step=0.1, description='Gain (k)')\n",
    "\n",
    "# Use the interactive widget to update the root locus and step response dynamically\n",
    "widgets.interactive(plot_root_locus_and_step_response, k_value=k_slider)\n"
   ]
  }
 ],
 "metadata": {
  "kernelspec": {
   "display_name": "base",
   "language": "python",
   "name": "python3"
  },
  "language_info": {
   "codemirror_mode": {
    "name": "ipython",
    "version": 3
   },
   "file_extension": ".py",
   "mimetype": "text/x-python",
   "name": "python",
   "nbconvert_exporter": "python",
   "pygments_lexer": "ipython3",
   "version": "3.9.13"
  }
 },
 "nbformat": 4,
 "nbformat_minor": 2
}
